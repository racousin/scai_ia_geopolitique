{
 "cells": [
  {
   "cell_type": "markdown",
   "metadata": {},
   "source": [
    "# TP - RAG (Retrieval-Augmented Generation) appliqué à la Géopolitique\n",
    "\n",
    "## Durée : 1h30-2h\n",
    "\n",
    "### Objectifs pédagogiques\n",
    "- Comprendre l'architecture et le fonctionnement d'un système RAG\n",
    "- Implémenter un RAG simple pour l'analyse géopolitique\n",
    "- Explorer l'impact des différents paramètres (chunking, embedding, retrieval)\n",
    "- Analyser les avantages et limites du RAG pour l'analyse documentaire\n",
    "\n",
    "### Prérequis\n",
    "- Avoir exécuté le script de récupération de documents\n",
    "- Connaissances de base sur les embeddings (TP précédent)\n",
    "- Notions de prompting et LLM"
   ]
  },
  {
   "cell_type": "markdown",
   "metadata": {},
   "source": [
    "## 1. Introduction au RAG\n",
    "\n",
    "### Qu'est-ce que le RAG ?\n",
    "\n",
    "**RAG = Retrieval-Augmented Generation**\n",
    "\n",
    "Le RAG combine:\n",
    "1. **Retrieval** (Recherche) : Trouver les documents pertinents dans une base de données\n",
    "2. **Augmented** (Augmenté) : Enrichir le contexte du LLM avec ces documents\n",
    "3. **Generation** (Génération) : Produire une réponse basée sur le contexte enrichi\n",
    "\n",
    "### Pourquoi utiliser le RAG ?\n",
    "\n",
    "✅ **Actualité** : Accès à des informations récentes non présentes dans le LLM\n",
    "✅ **Précision** : Réponses basées sur des sources spécifiques\n",
    "✅ **Traçabilité** : Possibilité de citer les sources\n",
    "✅ **Personnalisation** : Utilisation de documents spécifiques à un domaine\n",
    "\n",
    "### Architecture simplifiée\n",
    "\n",
    "```\n",
    "Question → Embedding → Recherche → Documents pertinents\n",
    "                                           ↓\n",
    "                                    LLM + Contexte → Réponse\n",
    "```"
   ]
  },
  {
   "cell_type": "markdown",
   "metadata": {},
   "source": [
    "## 2. Installation et configuration"
   ]
  },
  {
   "cell_type": "code",
   "execution_count": null,
   "metadata": {},
   "outputs": [],
   "source": [
    "# Installation des packages nécessaires\n",
    "!pip install langchain langchain-community langchain-huggingface\n",
    "!pip install sentence-transformers transformers\n",
    "!pip install chromadb faiss-cpu\n",
    "!pip install pandas numpy\n",
    "!pip install openai anthropic  # Pour les LLMs (optionnel)"
   ]
  },
  {
   "cell_type": "code",
   "execution_count": null,
   "metadata": {},
   "outputs": [],
   "source": [
    "# Imports essentiels\n",
    "import os\n",
    "import json\n",
    "import pandas as pd\n",
    "import numpy as np\n",
    "from typing import List, Dict\n",
    "\n",
    "# LangChain\n",
    "from langchain.text_splitter import RecursiveCharacterTextSplitter\n",
    "from langchain.embeddings import HuggingFaceEmbeddings\n",
    "from langchain.vectorstores import Chroma, FAISS\n",
    "from langchain.chains import RetrievalQA\n",
    "from langchain.llms import HuggingFacePipeline\n",
    "from langchain.schema import Document\n",
    "\n",
    "# Transformers\n",
    "from transformers import pipeline, AutoTokenizer, AutoModelForCausalLM\n",
    "\n",
    "import warnings\n",
    "warnings.filterwarnings('ignore')\n",
    "\n",
    "print(\"✓ Packages importés avec succès!\")"
   ]
  },
  {
   "cell_type": "markdown",
   "metadata": {},
   "source": [
    "## 3. Chargement des documents géopolitiques"
   ]
  },
  {
   "cell_type": "code",
   "execution_count": null,
   "metadata": {},
   "outputs": [],
   "source": [
    "# Configuration des chemins\n",
    "DOCS_FOLDER = \"documents_geopolitique\"\n",
    "\n",
    "def charger_documents():\n",
    "    \"\"\"Charge tous les documents disponibles\"\"\"\n",
    "    documents = []\n",
    "    \n",
    "    # 1. Charger les articles JSON\n",
    "    json_files = [f for f in os.listdir(DOCS_FOLDER) if f.endswith('.json')]\n",
    "    if json_files:\n",
    "        with open(os.path.join(DOCS_FOLDER, json_files[0]), 'r', encoding='utf-8') as f:\n",
    "            articles = json.load(f)\n",
    "            for article in articles:\n",
    "                doc = Document(\n",
    "                    page_content=f\"Titre: {article['titre']}\\n\\n{article['contenu']}\",\n",
    "                    metadata={\n",
    "                        \"source\": article['source'],\n",
    "                        \"titre\": article['titre'],\n",
    "                        \"langue\": article['langue'],\n",
    "                        \"type\": \"actualite\"\n",
    "                    }\n",
    "                )\n",
    "                documents.append(doc)\n",
    "    \n",
    "    # 2. Charger les documents de référence\n",
    "    ref_folder = os.path.join(DOCS_FOLDER, \"documents_reference\")\n",
    "    if os.path.exists(ref_folder):\n",
    "        for filename in os.listdir(ref_folder):\n",
    "            if filename.endswith('.txt'):\n",
    "                with open(os.path.join(ref_folder, filename), 'r', encoding='utf-8') as f:\n",
    "                    content = f.read()\n",
    "                    doc = Document(\n",
    "                        page_content=content,\n",
    "                        metadata={\n",
    "                            \"source\": \"reference\",\n",
    "                            \"filename\": filename,\n",
    "                            \"type\": \"reference\"\n",
    "                        }\n",
    "                    )\n",
    "                    documents.append(doc)\n",
    "    \n",
    "    print(f\"✓ {len(documents)} documents chargés\")\n",
    "    return documents\n",
    "\n",
    "# Charger les documents\n",
    "documents = charger_documents()\n",
    "\n",
    "# Aperçu\n",
    "if documents:\n",
    "    print(f\"\\nExemple de document:\")\n",
    "    print(f\"Contenu: {documents[0].page_content[:200]}...\")\n",
    "    print(f\"Métadonnées: {documents[0].metadata}\")"
   ]
  },
  {
   "cell_type": "markdown",
   "metadata": {},
   "source": [
    "## 4. Étape 1 : Text Splitting (Découpage des documents)\n",
    "\n",
    "Le découpage est crucial : des chunks trop grands = moins de précision, trop petits = perte de contexte"
   ]
  },
  {
   "cell_type": "code",
   "execution_count": null,
   "metadata": {},
   "outputs": [],
   "source": [
    "# Configuration du text splitter\n",
    "text_splitter = RecursiveCharacterTextSplitter(\n",
    "    chunk_size=500,        # 📝 TODO: Essayez 200, 500, 1000\n",
    "    chunk_overlap=50,      # 📝 TODO: Essayez 0, 50, 100\n",
    "    length_function=len,\n",
    "    separators=[\"\\n\\n\", \"\\n\", \".\", \" \", \"\"]\n",
    ")\n",
    "\n",
    "# Découper les documents\n",
    "chunks = text_splitter.split_documents(documents)\n",
    "print(f\"✓ {len(documents)} documents découpés en {len(chunks)} chunks\")\n",
    "print(f\"\\nTaille moyenne des chunks: {np.mean([len(chunk.page_content) for chunk in chunks]):.0f} caractères\")\n",
    "\n",
    "# Visualiser quelques chunks\n",
    "print(\"\\nExemples de chunks:\")\n",
    "for i, chunk in enumerate(chunks[:3]):\n",
    "    print(f\"\\n--- Chunk {i+1} ---\")\n",
    "    print(f\"Taille: {len(chunk.page_content)} caractères\")\n",
    "    print(f\"Contenu: {chunk.page_content[:150]}...\")"
   ]
  },
  {
   "cell_type": "markdown",
   "metadata": {},
   "source": [
    "### 🤔 Question 1 : Impact du chunking\n",
    "Modifiez `chunk_size` et `chunk_overlap` dans la cellule ci-dessus. Comment cela affecte-t-il :\n",
    "- Le nombre total de chunks ?\n",
    "- La cohérence du contenu dans chaque chunk ?\n",
    "- Quel compromis devez-vous faire ?"
   ]
  },
  {
   "cell_type": "markdown",
   "metadata": {},
   "source": [
    "## 5. Étape 2 : Embeddings et Vector Store"
   ]
  },
  {
   "cell_type": "code",
   "execution_count": null,
   "metadata": {},
   "outputs": [],
   "source": [
    "# Choix du modèle d'embeddings\n",
    "EMBEDDING_MODELS = {\n",
    "    \"multilingual-mini\": \"sentence-transformers/paraphrase-multilingual-MiniLM-L12-v2\",\n",
    "    \"multilingual-mpnet\": \"sentence-transformers/paraphrase-multilingual-mpnet-base-v2\",\n",
    "    \"french-camembert\": \"dangvantuan/sentence-camembert-base\",\n",
    "    \"english-minilm\": \"sentence-transformers/all-MiniLM-L6-v2\"\n",
    "}\n",
    "\n",
    "# 📝 TODO: Changez le modèle ici\n",
    "model_choice = \"multilingual-mini\"\n",
    "\n",
    "# Créer les embeddings\n",
    "embeddings = HuggingFaceEmbeddings(\n",
    "    model_name=EMBEDDING_MODELS[model_choice],\n",
    "    model_kwargs={'device': 'cpu'},\n",
    "    encode_kwargs={'normalize_embeddings': True}\n",
    ")\n",
    "\n",
    "print(f\"✓ Modèle d'embeddings chargé: {model_choice}\")"
   ]
  },
  {
   "cell_type": "code",
   "execution_count": null,
   "metadata": {},
   "outputs": [],
   "source": [
    "# Créer le vector store\n",
    "# 📝 TODO: Essayez 'chroma' ou 'faiss'\n",
    "vector_store_type = \"faiss\"  \n",
    "\n",
    "print(f\"Création du vector store ({vector_store_type})...\")\n",
    "\n",
    "if vector_store_type == \"chroma\":\n",
    "    vectorstore = Chroma.from_documents(\n",
    "        documents=chunks,\n",
    "        embedding=embeddings,\n",
    "        persist_directory=\"./chroma_db\"\n",
    "    )\n",
    "else:  # faiss\n",
    "    vectorstore = FAISS.from_documents(\n",
    "        documents=chunks,\n",
    "        embedding=embeddings\n",
    "    )\n",
    "\n",
    "print(f\"✓ Vector store créé avec {len(chunks)} chunks\")"
   ]
  },
  {
   "cell_type": "markdown",
   "metadata": {},
   "source": [
    "## 6. Étape 3 : Test de la recherche (Retrieval)"
   ]
  },
  {
   "cell_type": "code",
   "execution_count": null,
   "metadata": {},
   "outputs": [],
   "source": [
    "def tester_recherche(query: str, k: int = 3):\n",
    "    \"\"\"Teste la recherche de documents similaires\"\"\"\n",
    "    print(f\"\\n🔍 Recherche: '{query}'\")\n",
    "    print(f\"Top {k} résultats:\\n\")\n",
    "    \n",
    "    # Recherche\n",
    "    resultats = vectorstore.similarity_search_with_score(query, k=k)\n",
    "    \n",
    "    for i, (doc, score) in enumerate(resultats):\n",
    "        print(f\"--- Résultat {i+1} (score: {score:.3f}) ---\")\n",
    "        print(f\"Source: {doc.metadata}\")\n",
    "        print(f\"Extrait: {doc.page_content[:200]}...\\n\")\n",
    "    \n",
    "    return resultats\n",
    "\n",
    "# Test avec différentes requêtes\n",
    "queries_test = [\n",
    "    \"Relations entre la Chine et les États-Unis\",\n",
    "    \"Changement climatique et géopolitique\",\n",
    "    \"Conflits en Afrique\"\n",
    "]\n",
    "\n",
    "# 📝 TODO: Modifiez k (nombre de résultats) - essayez 1, 3, 5\n",
    "k_resultats = 3\n",
    "\n",
    "for query in queries_test[:1]:  # Tester la première requête\n",
    "    resultats = tester_recherche(query, k=k_resultats)"
   ]
  },
  {
   "cell_type": "markdown",
   "metadata": {},
   "source": [
    "### 🤔 Question 2 : Qualité de la recherche\n",
    "- Les documents retrouvés sont-ils pertinents ?\n",
    "- Comment le nombre de résultats (k) affecte-t-il la qualité ?\n",
    "- Testez avec vos propres questions géopolitiques !"
   ]
  },
  {
   "cell_type": "code",
   "execution_count": null,
   "metadata": {},
   "outputs": [],
   "source": [
    "# 📝 TODO: Testez vos propres questions ici\n",
    "ma_question = \"Quel est le rôle de l'Union européenne dans les conflits actuels ?\"\n",
    "mes_resultats = tester_recherche(ma_question, k=3)"
   ]
  },
  {
   "cell_type": "markdown",
   "metadata": {},
   "source": [
    "## 7. Étape 4 : Configuration du LLM pour la génération"
   ]
  },
  {
   "cell_type": "code",
   "execution_count": null,
   "metadata": {},
   "outputs": [],
   "source": [
    "# Pour ce TP, nous utilisons un petit modèle open-source\n",
    "# Note: Pour de meilleurs résultats, utilisez GPT-3.5/4 ou Claude avec une API key\n",
    "\n",
    "def creer_llm_simple():\n",
    "    \"\"\"Crée un LLM simple pour la génération\"\"\"\n",
    "    \n",
    "    # Utiliser un modèle léger\n",
    "    model_id = \"google/flan-t5-base\"  # 📝 TODO: Essayez \"google/flan-t5-small\" ou \"google/flan-t5-large\"\n",
    "    \n",
    "    print(f\"Chargement du modèle {model_id}...\")\n",
    "    \n",
    "    # Pipeline de génération\n",
    "    pipe = pipeline(\n",
    "        \"text2text-generation\",\n",
    "        model=model_id,\n",
    "        max_length=512,\n",
    "        temperature=0.7,  # 📝 TODO: Essayez 0.1 (déterministe) à 1.0 (créatif)\n",
    "        do_sample=True\n",
    "    )\n",
    "    \n",
    "    # Wrapper pour LangChain\n",
    "    llm = HuggingFacePipeline(pipeline=pipe)\n",
    "    \n",
    "    print(\"✓ LLM chargé et prêt!\")\n",
    "    return llm\n",
    "\n",
    "# Créer le LLM\n",
    "llm = creer_llm_simple()"
   ]
  },
  {
   "cell_type": "markdown",
   "metadata": {},
   "source": [
    "## 8. Assemblage du système RAG complet"
   ]
  },
  {
   "cell_type": "code",
   "execution_count": null,
   "metadata": {},
   "outputs": [],
   "source": [
    "# Template de prompt pour le RAG\n",
    "from langchain.prompts import PromptTemplate\n",
    "\n",
    "# 📝 TODO: Modifiez ce template selon vos besoins\n",
    "template = \"\"\"Utilise les extraits de documents suivants pour répondre à la question. \n",
    "Si tu ne peux pas répondre basé sur les documents, dis-le clairement.\n",
    "\n",
    "Documents:\n",
    "{context}\n",
    "\n",
    "Question: {question}\n",
    "\n",
    "Réponse concise et factuelle:\"\"\"\n",
    "\n",
    "QA_PROMPT = PromptTemplate(\n",
    "    template=template,\n",
    "    input_variables=[\"context\", \"question\"]\n",
    ")\n",
    "\n",
    "# Créer la chaîne RAG\n",
    "qa_chain = RetrievalQA.from_chain_type(\n",
    "    llm=llm,\n",
    "    chain_type=\"stuff\",  # 📝 TODO: Essayez aussi \"map_reduce\" pour de longs documents\n",
    "    retriever=vectorstore.as_retriever(\n",
    "        search_kwargs={\"k\": 3}  # 📝 TODO: Ajustez le nombre de documents\n",
    "    ),\n",
    "    return_source_documents=True,\n",
    "    chain_type_kwargs={\"prompt\": QA_PROMPT}\n",
    ")\n",
    "\n",
    "print(\"✓ Système RAG configuré et prêt!\")"
   ]
  },
  {
   "cell_type": "markdown",
   "metadata": {},
   "source": [
    "## 9. Test du système RAG complet"
   ]
  },
  {
   "cell_type": "code",
   "execution_count": null,
   "metadata": {},
   "outputs": [],
   "source": [
    "def poser_question_rag(question: str, afficher_sources: bool = True):\n",
    "    \"\"\"Pose une question au système RAG\"\"\"\n",
    "    print(f\"\\n💬 Question: {question}\")\n",
    "    print(\"Recherche et génération en cours...\\n\")\n",
    "    \n",
    "    # Obtenir la réponse\n",
    "    resultat = qa_chain({\"query\": question})\n",
    "    \n",
    "    # Afficher la réponse\n",
    "    print(\"📝 Réponse:\")\n",
    "    print(resultat['result'])\n",
    "    \n",
    "    # Afficher les sources\n",
    "    if afficher_sources and 'source_documents' in resultat:\n",
    "        print(\"\\n📚 Sources utilisées:\")\n",
    "        for i, doc in enumerate(resultat['source_documents']):\n",
    "            print(f\"\\n  Source {i+1}:\")\n",
    "            print(f\"  - Type: {doc.metadata.get('type', 'inconnu')}\")\n",
    "            print(f\"  - Source: {doc.metadata.get('source', 'inconnue')}\")\n",
    "            print(f\"  - Extrait: {doc.page_content[:100]}...\")\n",
    "    \n",
    "    return resultat\n",
    "\n",
    "# Questions de test\n",
    "questions_geopolitiques = [\n",
    "    \"Quels sont les principaux conflits régionaux actuels ?\",\n",
    "    \"Comment le changement climatique affecte-t-il la géopolitique ?\",\n",
    "    \"Quel est le rôle des BRICS dans le système international ?\",\n",
    "    \"Quelles sont les tensions en mer de Chine ?\"\n",
    "]\n",
    "\n",
    "# Tester une question\n",
    "resultat = poser_question_rag(questions_geopolitiques[0])"
   ]
  },
  {
   "cell_type": "markdown",
   "metadata": {},
   "source": [
    "### 🤔 Question 3 : Analyse de la génération\n",
    "- La réponse est-elle cohérente avec les sources ?\n",
    "- Y a-t-il des hallucinations (informations inventées) ?\n",
    "- Comment améliorer la qualité des réponses ?"
   ]
  },
  {
   "cell_type": "code",
   "execution_count": null,
   "metadata": {},
   "outputs": [],
   "source": [
    "# 📝 TODO: Testez d'autres questions\n",
    "for question in questions_geopolitiques[1:3]:\n",
    "    resultat = poser_question_rag(question, afficher_sources=False)\n",
    "    print(\"\\n\" + \"=\"*60)"
   ]
  },
  {
   "cell_type": "markdown",
   "metadata": {},
   "source": [
    "## 10. Expérimentations avancées"
   ]
  },
  {
   "cell_type": "markdown",
   "metadata": {},
   "source": [
    "### Exercice 1 : Comparaison avec/sans RAG"
   ]
  },
  {
   "cell_type": "code",
   "execution_count": null,
   "metadata": {},
   "outputs": [],
   "source": [
    "def comparer_avec_sans_rag(question: str):\n",
    "    \"\"\"Compare les réponses avec et sans RAG\"\"\"\n",
    "    print(f\"\\n🔬 Comparaison pour: '{question}'\\n\")\n",
    "    \n",
    "    # Sans RAG (LLM seul)\n",
    "    print(\"1️⃣ SANS RAG (LLM seul):\")\n",
    "    reponse_sans_rag = llm(question)\n",
    "    print(reponse_sans_rag)\n",
    "    \n",
    "    # Avec RAG\n",
    "    print(\"\\n2️⃣ AVEC RAG (LLM + Documents):\")\n",
    "    resultat_rag = qa_chain({\"query\": question})\n",
    "    print(resultat_rag['result'])\n",
    "    \n",
    "    print(\"\\nSources RAG:\")\n",
    "    for doc in resultat_rag['source_documents'][:2]:\n",
    "        print(f\"- {doc.metadata.get('titre', 'Sans titre')[:50]}...\")\n",
    "\n",
    "# Test sur une question d'actualité\n",
    "question_test = \"Quelles sont les dernières tensions entre pays en 2025 ?\"\n",
    "comparer_avec_sans_rag(question_test)"
   ]
  },
  {
   "cell_type": "markdown",
   "metadata": {},
   "source": [
    "### Exercice 2 : Impact des paramètres de recherche"
   ]
  },
  {
   "cell_type": "code",
   "execution_count": null,
   "metadata": {},
   "outputs": [],
   "source": [
    "def analyser_impact_k(question: str, k_values: list = [1, 3, 5, 10]):\n",
    "    \"\"\"Analyse l'impact du nombre de documents récupérés\"\"\"\n",
    "    print(f\"\\n📊 Analyse de l'impact de k pour: '{question}'\\n\")\n",
    "    \n",
    "    for k in k_values:\n",
    "        print(f\"\\n--- k = {k} documents ---\")\n",
    "        \n",
    "        # Créer un nouveau retriever avec k différent\n",
    "        qa_chain_k = RetrievalQA.from_chain_type(\n",
    "            llm=llm,\n",
    "            chain_type=\"stuff\",\n",
    "            retriever=vectorstore.as_retriever(search_kwargs={\"k\": k}),\n",
    "            return_source_documents=True,\n",
    "            chain_type_kwargs={\"prompt\": QA_PROMPT}\n",
    "        )\n",
    "        \n",
    "        # Obtenir la réponse\n",
    "        resultat = qa_chain_k({\"query\": question})\n",
    "        \n",
    "        print(f\"Réponse ({len(resultat['result'])} caractères): {resultat['result'][:150]}...\")\n",
    "        print(f\"Nombre de sources uniques: {len(set(doc.metadata.get('source', '') for doc in resultat['source_documents']))}\")\n",
    "\n",
    "# Analyser\n",
    "analyser_impact_k(\"Quels sont les enjeux de l'intelligence artificielle en géopolitique ?\")"
   ]
  },
  {
   "cell_type": "markdown",
   "metadata": {},
   "source": [
    "### 🤔 Question 4 : Optimisation du RAG\n",
    "Basé sur vos expérimentations :\n",
    "- Quel nombre de documents (k) donne les meilleurs résultats ?\n",
    "- Comment la taille des chunks affecte-t-elle la qualité ?\n",
    "- Quel modèle d'embedding est le plus adapté à vos documents ?"
   ]
  },
  {
   "cell_type": "markdown",
   "metadata": {},
   "source": [
    "### Exercice 3 : RAG multilingue"
   ]
  },
  {
   "cell_type": "code",
   "execution_count": null,
   "metadata": {},
   "outputs": [],
   "source": [
    "# Test avec des questions dans différentes langues\n",
    "questions_multilingues = {\n",
    "    \"fr\": \"Quelles sont les relations entre la France et l'Afrique ?\",\n",
    "    \"en\": \"What are the main challenges facing the United Nations?\",\n",
    "    \"es\": \"¿Cuál es el papel de América Latina en la geopolítica mundial?\"\n",
    "}\n",
    "\n",
    "print(\"🌍 Test multilingue du RAG\\n\")\n",
    "\n",
    "for langue, question in questions_multilingues.items():\n",
    "    print(f\"\\n[{langue.upper()}] {question}\")\n",
    "    resultat = qa_chain({\"query\": question})\n",
    "    print(f\"Réponse: {resultat['result'][:200]}...\")\n",
    "    print(f\"Langues des sources: {set(doc.metadata.get('langue', 'inconnue') for doc in resultat['source_documents'])}\")"
   ]
  },
  {
   "cell_type": "markdown",
   "metadata": {},
   "source": [
    "## 11. Analyse critique et limites du RAG"
   ]
  },
  {
   "cell_type": "code",
   "execution_count": null,
   "metadata": {},
   "outputs": [],
   "source": [
    "# Créons un cas problématique pour illustrer les limites\n",
    "def tester_limites_rag():\n",
    "    \"\"\"Teste les limites du système RAG\"\"\"\n",
    "    \n",
    "    cas_limites = [\n",
    "        {\n",
    "            \"type\": \"Question hors corpus\",\n",
    "            \"question\": \"Quelle est la politique spatiale du Luxembourg ?\"\n",
    "        },\n",
    "        {\n",
    "            \"type\": \"Question nécessitant du raisonnement\",\n",
    "            \"question\": \"Si les tensions augmentent en mer de Chine et que le pétrole devient rare, quel pays sera le plus affecté ?\"\n",
    "        },\n",
    "        {\n",
    "            \"type\": \"Question temporelle\",\n",
    "            \"question\": \"Comment ont évolué les relations sino-américaines depuis 10 ans ?\"\n",
    "        },\n",
    "        {\n",
    "            \"type\": \"Question contradictoire\",\n",
    "            \"question\": \"Pourquoi la Suisse est-elle membre de l'OTAN ?\"\n",
    "        }\n",
    "    ]\n",
    "    \n",
    "    print(\"🚨 Test des limites du RAG\\n\")\n",
    "    \n",
    "    for cas in cas_limites:\n",
    "        print(f\"\\n--- {cas['type']} ---\")\n",
    "        print(f\"Question: {cas['question']}\")\n",
    "        \n",
    "        resultat = qa_chain({\"query\": cas['question']})\n",
    "        print(f\"\\nRéponse RAG: {resultat['result']}\")\n",
    "        print(f\"Nb sources trouvées: {len(resultat['source_documents'])}\")\n",
    "        \n",
    "        # Analyser la pertinence\n",
    "        if resultat['source_documents']:\n",
    "            premier_doc = resultat['source_documents'][0].page_content[:100]\n",
    "            print(f\"Pertinence de la 1ère source: {premier_doc}...\")\n",
    "\n",
    "# Exécuter les tests\n",
    "tester_limites_rag()"
   ]
  },
  {
   "cell_type": "markdown",
   "metadata": {},
   "source": [
    "### 🤔 Question 5 : Réflexion sur les limites\n",
    "D'après vos observations :\n",
    "- Quelles sont les principales limites du RAG ?\n",
    "- Comment le système gère-t-il l'absence d'information ?\n",
    "- Peut-on faire confiance au RAG pour l'analyse géopolitique ?"
   ]
  },
  {
   "cell_type": "markdown",
   "metadata": {},
   "source": [
    "## 12. Synthèse et bonnes pratiques"
   ]
  },
  {
   "cell_type": "code",
   "execution_count": null,
   "metadata": {},
   "outputs": [],
   "source": [
    "# 📝 TODO: Complétez vos observations\n",
    "\n",
    "mes_conclusions_rag = {\n",
    "    \"avantages_observes\": [\n",
    "        \"Accès à des informations actualisées\",\n",
    "        # Ajoutez vos observations...\n",
    "    ],\n",
    "    \"limites_identifiees\": [\n",
    "        \"Dépendance à la qualité des documents sources\",\n",
    "        # Ajoutez vos observations...\n",
    "    ],\n",
    "    \"parametres_optimaux\": {\n",
    "        \"chunk_size\": 500,  # Votre choix\n",
    "        \"k_documents\": 3,   # Votre choix\n",
    "        \"modele_embedding\": \"multilingual-mini\",  # Votre choix\n",
    "    },\n",
    "    \"cas_usage_pertinents\": [\n",
    "        \"Analyse d'actualités géopolitiques\",\n",
    "        # Ajoutez vos idées...\n",
    "    ],\n",
    "    \"ameliorations_possibles\": [\n",
    "        \"Utiliser un LLM plus puissant\",\n",
    "        # Ajoutez vos suggestions...\n",
    "    ]\n",
    "}\n",
    "\n",
    "print(\"=== SYNTHÈSE DE MES OBSERVATIONS SUR LE RAG ===\")\n",
    "for categorie, contenu in mes_conclusions_rag.items():\n",
    "    print(f\"\\n{categorie.replace('_', ' ').upper()}:\")\n",
    "    if isinstance(contenu, list):\n",
    "        for item in contenu:\n",
    "            print(f\"  • {item}\")\n",
    "    elif isinstance(contenu, dict):\n",
    "        for key, value in contenu.items():\n",
    "            print(f\"  • {key}: {value}\")"
   ]
  },
  {
   "cell_type": "markdown",
   "metadata": {},
   "source": [
    "## 13. Pour aller plus loin\n",
    "\n",
    "### Extensions possibles du RAG\n",
    "\n",
    "1. **RAG hybride** : Combiner recherche par mots-clés et recherche sémantique\n",
    "2. **Re-ranking** : Réordonner les documents récupérés selon leur pertinence\n",
    "3. **Multi-modal RAG** : Intégrer images, graphiques, cartes\n",
    "4. **RAG conversationnel** : Maintenir un historique de conversation\n",
    "5. **RAG avec citations** : Citer précisément les sources dans la réponse\n",
    "\n",
    "### Code bonus : RAG avec méta-données"
   ]
  },
  {
   "cell_type": "code",
   "execution_count": null,
   "metadata": {},
   "outputs": [],
   "source": [
    "# Exemple de recherche avec filtrage par méta-données\n",
    "def recherche_avec_filtres(question: str, type_doc: str = None, langue: str = None):\n",
    "    \"\"\"Recherche avec filtrage sur les méta-données\"\"\"\n",
    "    print(f\"\\n🔍 Recherche filtrée: '{question}'\")\n",
    "    if type_doc:\n",
    "        print(f\"   Filtre type: {type_doc}\")\n",
    "    if langue:\n",
    "        print(f\"   Filtre langue: {langue}\")\n",
    "    \n",
    "    # Créer un filtre (dépend du vector store utilisé)\n",
    "    # Note: Ceci est un exemple conceptuel\n",
    "    resultats = vectorstore.similarity_search(\n",
    "        question,\n",
    "        k=5,\n",
    "        # filter={\"type\": type_doc} if type_doc else None  # Pseudo-code\n",
    "    )\n",
    "    \n",
    "    print(f\"\\n{len(resultats)} résultats trouvés\")\n",
    "    for i, doc in enumerate(resultats[:3]):\n",
    "        print(f\"\\n{i+1}. {doc.metadata}\")\n",
    "        print(f\"   {doc.page_content[:100]}...\")\n",
    "\n",
    "# Test\n",
    "recherche_avec_filtres(\n",
    "    \"Tensions internationales\",\n",
    "    type_doc=\"actualite\"\n",
    ")"
   ]
  },
  {
   "cell_type": "markdown",
   "metadata": {},
   "source": [
    "## Questions finales de réflexion\n",
    "\n",
    "### 🎯 Pour votre pratique future :\n",
    "\n",
    "1. **Application professionnelle** : Comment pourriez-vous utiliser le RAG dans votre domaine d'expertise en géopolitique ?\n",
    "\n",
    "2. **Éthique et biais** : Comment s'assurer que le RAG ne propage pas de désinformation ou de biais géopolitiques ?\n",
    "\n",
    "3. **Souveraineté des données** : Quels enjeux pose l'utilisation de RAG avec des documents sensibles ou confidentiels ?\n",
    "\n",
    "4. **Évolution future** : Comment imaginez-vous l'évolution du RAG pour l'analyse géopolitique dans 5 ans ?\n",
    "\n",
    "5. **Alternatives** : Quelles autres approches pourrait-on combiner avec le RAG pour améliorer l'analyse ?\n",
    "\n",
    "---\n",
    "\n",
    "## 📚 Ressources complémentaires\n",
    "\n",
    "1. **Documentation**\n",
    "   - [LangChain RAG Tutorial](https://python.langchain.com/docs/use_cases/question_answering)\n",
    "   - [Hugging Face RAG Guide](https://huggingface.co/docs/transformers/model_doc/rag)\n",
    "\n",
    "2. **Articles de recherche**\n",
    "   - \"Retrieval-Augmented Generation for Knowledge-Intensive NLP Tasks\" (Lewis et al., 2020)\n",
    "   - \"REALM: Retrieval-Augmented Language Model Pre-Training\" (Guu et al., 2020)\n",
    "\n",
    "3. **Outils avancés**\n",
    "   - [Haystack](https://haystack.deepset.ai/) - Framework NLP pour RAG\n",
    "   - [Weaviate](https://weaviate.io/) - Vector database spécialisée\n",
    "   - [Pinecone](https://www.pinecone.io/) - Vector database cloud\n",
    "\n",
    "---\n",
    "\n",
    "**Félicitations !** Vous avez maintenant une compréhension pratique du RAG appliqué à la géopolitique. 🎓\n",
    "\n",
    "N'hésitez pas à expérimenter davantage et à adapter ces techniques à vos besoins spécifiques."
   ]
  }
 ],
 "metadata": {
  "kernelspec": {
   "display_name": "Python 3 (ipykernel)",
   "language": "python",
   "name": "python3"
  },
  "language_info": {
   "codemirror_mode": {
    "name": "ipython",
    "version": 3
   },
   "file_extension": ".py",
   "mimetype": "text/x-python",
   "name": "python",
   "nbconvert_exporter": "python",
   "pygments_lexer": "ipython3",
   "version": "3.13.3"
  }
 },
 "nbformat": 4,
 "nbformat_minor": 4
}
