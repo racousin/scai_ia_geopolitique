{
 "cells": [
  {
   "cell_type": "markdown",
   "metadata": {},
   "source": [
    "# TP : Introduction pratique aux modèles NLP et LLM\n",
    "\n",
    "## Objectifs du TP (1h30-2h)\n",
    "\n",
    "Dans ce TP, nous allons explorer :\n",
    "1. **La représentation du langage naturel** : tokenizers et encodage du texte\n",
    "2. **Les caractéristiques des modèles GPT** : prédiction de tokens, context window\n",
    "3. **L'impact du prompting et de la température** sur les sorties du modèle\n",
    "4. **La diversité des modèles** disponibles sur Hugging Face\n",
    "\n",
    "---\n",
    "\n",
    "## Installation des dépendances\n",
    "\n",
    "Exécutez la cellule suivante pour installer les bibliothèques nécessaires :"
   ]
  },
  {
   "cell_type": "code",
   "execution_count": null,
   "metadata": {},
   "outputs": [],
   "source": [
    "# Installation des bibliothèques\n",
    "!pip install transformers torch datasets sentencepiece sacremoses -q\n",
    "\n",
    "# Imports nécessaires\n",
    "import torch\n",
    "from transformers import (\n",
    "    AutoTokenizer, \n",
    "    AutoModelForCausalLM,\n",
    "    AutoModelForSequenceClassification,\n",
    "    AutoModelForSeq2SeqLM,\n",
    "    pipeline\n",
    ")\n",
    "import matplotlib.pyplot as plt\n",
    "import numpy as np\n",
    "from IPython.display import display, HTML\n",
    "import warnings\n",
    "warnings.filterwarnings('ignore')\n",
    "\n",
    "print(\"✅ Bibliothèques installées et importées avec succès!\")"
   ]
  },
  {
   "cell_type": "markdown",
   "metadata": {},
   "source": [
    "---\n",
    "\n",
    "## Partie 1 : Représenter le langage naturel - Les Tokenizers\n",
    "\n",
    "### 1.1 Introduction aux tokenizers\n",
    "\n",
    "Les tokenizers sont des outils essentiels qui convertissent le texte en tokens (unités de base) que les modèles peuvent traiter."
   ]
  },
  {
   "cell_type": "code",
   "execution_count": null,
   "metadata": {},
   "outputs": [],
   "source": [
    "# Textes d'exemple pour nos tests\n",
    "textes_exemples = [\n",
    "    \"Bonjour, comment allez-vous aujourd'hui?\",\n",
    "    \"The quick brown fox jumps over the lazy dog.\",\n",
    "    \"人工智能正在改变世界。\",  # Chinois : \"L'IA change le monde\"\n",
    "    \"🤖 Les emojis sont-ils bien tokenisés? 🚀\",\n",
    "    \"import numpy as np\\nprint('Hello World!')\"\n",
    "]\n",
    "\n",
    "# Fonction utilitaire pour visualiser la tokenisation\n",
    "def visualiser_tokenisation(tokenizer, texte, nom_tokenizer):\n",
    "    tokens = tokenizer.tokenize(texte)\n",
    "    token_ids = tokenizer.encode(texte)\n",
    "    \n",
    "    print(f\"\\n{'='*60}\")\n",
    "    print(f\"Tokenizer: {nom_tokenizer}\")\n",
    "    print(f\"Texte original: {texte}\")\n",
    "    print(f\"Nombre de tokens: {len(tokens)}\")\n",
    "    print(f\"Tokens: {tokens[:20]}{'...' if len(tokens) > 20 else ''}\")\n",
    "    print(f\"Token IDs: {token_ids[:20]}{'...' if len(token_ids) > 20 else ''}\")\n",
    "    \n",
    "    return len(tokens)"
   ]
  },
  {
   "cell_type": "markdown",
   "metadata": {},
   "source": [
    "### 1.2 Comparaison de différents tokenizers\n",
    "\n",
    "Nous allons comparer plusieurs tokenizers populaires :"
   ]
  },
  {
   "cell_type": "code",
   "execution_count": null,
   "metadata": {},
   "outputs": [],
   "source": [
    "# Chargement de différents tokenizers\n",
    "tokenizers = {\n",
    "    \"GPT-2\": AutoTokenizer.from_pretrained(\"gpt2\"),\n",
    "    \"BERT\": AutoTokenizer.from_pretrained(\"bert-base-uncased\"),\n",
    "    \"T5\": AutoTokenizer.from_pretrained(\"t5-small\"),\n",
    "    \"CamemBERT (Français)\": AutoTokenizer.from_pretrained(\"camembert-base\")\n",
    "}\n",
    "\n",
    "# Analyse comparative\n",
    "resultats = {}\n",
    "for nom, tokenizer in tokenizers.items():\n",
    "    print(f\"\\n\\n{'#'*80}\\n{nom.upper()}\\n{'#'*80}\")\n",
    "    resultats[nom] = []\n",
    "    \n",
    "    for texte in textes_exemples:\n",
    "        try:\n",
    "            nb_tokens = visualiser_tokenisation(tokenizer, texte, nom)\n",
    "            resultats[nom].append(nb_tokens)\n",
    "        except:\n",
    "            print(f\"❌ Erreur avec le texte: {texte}\")\n",
    "            resultats[nom].append(0)"
   ]
  },
  {
   "cell_type": "markdown",
   "metadata": {},
   "source": [
    "### 📝 Question 1.1\n",
    "\n",
    "**Observez les résultats ci-dessus. Que remarquez-vous concernant :**\n",
    "- Le nombre de tokens pour le même texte selon les tokenizers ?\n",
    "- La gestion des caractères spéciaux et emojis ?\n",
    "- La tokenisation du code Python ?\n",
    "\n",
    "**Votre réponse :** *(Double-cliquez pour éditer)*\n",
    "\n",
    "..."
   ]
  },
  {
   "cell_type": "code",
   "execution_count": null,
   "metadata": {},
   "outputs": [],
   "source": [
    "# Visualisation graphique des résultats\n",
    "import pandas as pd\n",
    "\n",
    "df_resultats = pd.DataFrame(resultats, index=[f\"Texte {i+1}\" for i in range(len(textes_exemples))])\n",
    "\n",
    "# Graphique\n",
    "fig, ax = plt.subplots(figsize=(10, 6))\n",
    "df_resultats.plot(kind='bar', ax=ax)\n",
    "ax.set_title(\"Nombre de tokens par tokenizer et par texte\")\n",
    "ax.set_xlabel(\"Textes\")\n",
    "ax.set_ylabel(\"Nombre de tokens\")\n",
    "ax.legend(bbox_to_anchor=(1.05, 1), loc='upper left')\n",
    "plt.xticks(rotation=45)\n",
    "plt.tight_layout()\n",
    "plt.show()\n",
    "\n",
    "print(\"\\nRésumé statistique:\")\n",
    "print(df_resultats.describe())"
   ]
  },
  {
   "cell_type": "markdown",
   "metadata": {},
   "source": [
    "### 1.3 Exploration approfondie : Vocabulaire et tokens spéciaux"
   ]
  },
  {
   "cell_type": "code",
   "execution_count": null,
   "metadata": {},
   "outputs": [],
   "source": [
    "# Explorons le vocabulaire d'un tokenizer\n",
    "tokenizer_gpt2 = tokenizers[\"GPT-2\"]\n",
    "\n",
    "print(f\"Taille du vocabulaire GPT-2: {tokenizer_gpt2.vocab_size}\")\n",
    "print(f\"\\nTokens spéciaux:\")\n",
    "print(f\"- Token de padding: {tokenizer_gpt2.pad_token}\")\n",
    "print(f\"- Token de début: {tokenizer_gpt2.bos_token}\")\n",
    "print(f\"- Token de fin: {tokenizer_gpt2.eos_token}\")\n",
    "print(f\"- Token inconnu: {tokenizer_gpt2.unk_token}\")\n",
    "\n",
    "# Exemple de décodage\n",
    "texte_test = \"Intelligence artificielle\"\n",
    "tokens_ids = tokenizer_gpt2.encode(texte_test)\n",
    "texte_decode = tokenizer_gpt2.decode(tokens_ids)\n",
    "\n",
    "print(f\"\\nEncodage/Décodage:\")\n",
    "print(f\"Texte original: '{texte_test}'\")\n",
    "print(f\"Token IDs: {tokens_ids}\")\n",
    "print(f\"Texte décodé: '{texte_decode}'\")\n",
    "print(f\"Correspondance parfaite: {texte_test == texte_decode}\")"
   ]
  },
  {
   "cell_type": "markdown",
   "metadata": {},
   "source": [
    "### 📝 Exercice 1.1 : Analyse de tokenisation\n",
    "\n",
    "Modifiez le texte ci-dessous et observez comment la tokenisation change :"
   ]
  },
  {
   "cell_type": "code",
   "execution_count": null,
   "metadata": {},
   "outputs": [],
   "source": [
    "# TODO: Modifiez ce texte pour tester différents cas\n",
    "mon_texte = \"L'intelligence artificielle révolutionne notre quotidien!\"\n",
    "\n",
    "# Testez avec différents tokenizers\n",
    "for nom, tokenizer in list(tokenizers.items())[:2]:  # On teste avec les 2 premiers\n",
    "    tokens = tokenizer.tokenize(mon_texte)\n",
    "    print(f\"\\n{nom}:\")\n",
    "    print(f\"  Tokens ({len(tokens)}): {tokens}\")\n",
    "    \n",
    "    # Reconstruction token par token\n",
    "    print(\"  Reconstruction: \", end=\"\")\n",
    "    for token in tokens:\n",
    "        print(f\"[{token}]\", end=\"\")\n",
    "    print()"
   ]
  },
  {
   "cell_type": "markdown",
   "metadata": {},
   "source": [
    "---\n",
    "\n",
    "## Partie 2 : Comprendre les modèles GPT\n",
    "\n",
    "### 2.1 Chargement d'un modèle GPT-2"
   ]
  },
  {
   "cell_type": "code",
   "execution_count": null,
   "metadata": {},
   "outputs": [],
   "source": [
    "# Chargement du modèle GPT-2 small\n",
    "print(\"Chargement du modèle GPT-2... (cela peut prendre un moment)\")\n",
    "\n",
    "model_name = \"gpt2\"  # Vous pouvez essayer \"gpt2-medium\" si vous avez plus de RAM\n",
    "tokenizer = AutoTokenizer.from_pretrained(model_name)\n",
    "model = AutoModelForCausalLM.from_pretrained(model_name)\n",
    "\n",
    "# Configuration du token de padding\n",
    "tokenizer.pad_token = tokenizer.eos_token\n",
    "\n",
    "# Informations sur le modèle\n",
    "print(f\"\\n✅ Modèle chargé: {model_name}\")\n",
    "print(f\"Nombre de paramètres: {model.num_parameters():,}\")\n",
    "print(f\"Taille du contexte maximum: {model.config.n_ctx} tokens\")"
   ]
  },
  {
   "cell_type": "markdown",
   "metadata": {},
   "source": [
    "### 2.2 Génération de texte : Prédiction de tokens"
   ]
  },
  {
   "cell_type": "code",
   "execution_count": null,
   "metadata": {},
   "outputs": [],
   "source": [
    "def generer_texte(prompt, max_length=50, temperature=1.0, num_return_sequences=1):\n",
    "    \"\"\"\n",
    "    Génère du texte à partir d'un prompt\n",
    "    \"\"\"\n",
    "    # Encodage du prompt\n",
    "    inputs = tokenizer.encode(prompt, return_tensors=\"pt\")\n",
    "    \n",
    "    # Génération\n",
    "    with torch.no_grad():\n",
    "        outputs = model.generate(\n",
    "            inputs,\n",
    "            max_length=max_length,\n",
    "            temperature=temperature,\n",
    "            num_return_sequences=num_return_sequences,\n",
    "            pad_token_id=tokenizer.eos_token_id,\n",
    "            do_sample=True\n",
    "        )\n",
    "    \n",
    "    # Décodage et affichage\n",
    "    for i, output in enumerate(outputs):\n",
    "        texte_genere = tokenizer.decode(output, skip_special_tokens=True)\n",
    "        print(f\"\\nGénération {i+1}:\")\n",
    "        print(f\"{'='*60}\")\n",
    "        print(texte_genere)\n",
    "\n",
    "# Test de génération\n",
    "prompt_test = \"L'intelligence artificielle est\"\n",
    "print(f\"Prompt: '{prompt_test}'\\n\")\n",
    "generer_texte(prompt_test, max_length=50, temperature=0.8)"
   ]
  },
  {
   "cell_type": "markdown",
   "metadata": {},
   "source": [
    "### 2.3 Importance du bon tokenizer"
   ]
  },
  {
   "cell_type": "code",
   "execution_count": null,
   "metadata": {},
   "outputs": [],
   "source": [
    "# Démonstration : utiliser le mauvais tokenizer\n",
    "print(\"🔍 Expérience : Que se passe-t-il si on utilise le mauvais tokenizer?\\n\")\n",
    "\n",
    "# Tokenizer correct (GPT-2)\n",
    "prompt = \"Paris is the capital of\"\n",
    "inputs_correct = tokenizer.encode(prompt, return_tensors=\"pt\")\n",
    "\n",
    "# Tokenizer incorrect (BERT)\n",
    "tokenizer_bert = AutoTokenizer.from_pretrained(\"bert-base-uncased\")\n",
    "inputs_incorrect = tokenizer_bert.encode(prompt, return_tensors=\"pt\")\n",
    "\n",
    "print(f\"Prompt: '{prompt}'\")\n",
    "print(f\"\\nTokens GPT-2 (correct): {tokenizer.tokenize(prompt)}\")\n",
    "print(f\"Token IDs GPT-2: {inputs_correct[0].tolist()}\")\n",
    "print(f\"\\nTokens BERT (incorrect): {tokenizer_bert.tokenize(prompt)}\")\n",
    "print(f\"Token IDs BERT: {inputs_incorrect[0].tolist()}\")\n",
    "\n",
    "# Génération avec le bon tokenizer\n",
    "with torch.no_grad():\n",
    "    output_correct = model.generate(inputs_correct, max_length=20, temperature=0.1)\n",
    "    texte_correct = tokenizer.decode(output_correct[0], skip_special_tokens=True)\n",
    "    \n",
    "print(f\"\\n✅ Génération avec le bon tokenizer: '{texte_correct}'\")\n",
    "\n",
    "# Tentative avec les IDs du mauvais tokenizer (attention aux erreurs!)\n",
    "try:\n",
    "    # On va créer des IDs aléatoires pour simuler\n",
    "    fake_ids = torch.randint(0, tokenizer.vocab_size, (1, len(inputs_incorrect[0])))\n",
    "    with torch.no_grad():\n",
    "        output_incorrect = model.generate(fake_ids, max_length=20, temperature=0.1)\n",
    "        texte_incorrect = tokenizer.decode(output_incorrect[0], skip_special_tokens=True)\n",
    "    print(f\"❌ Génération avec mauvais tokenizer: '{texte_incorrect}'\")\n",
    "except Exception as e:\n",
    "    print(f\"❌ Erreur avec le mauvais tokenizer: {str(e)}\")"
   ]
  },
  {
   "cell_type": "markdown",
   "metadata": {},
   "source": [
    "### 📝 Question 2.1\n",
    "\n",
    "**Pourquoi est-il crucial d'utiliser le tokenizer correspondant au modèle?**\n",
    "\n",
    "**Votre réponse :** *(Double-cliquez pour éditer)*\n",
    "\n",
    "..."
   ]
  },
  {
   "cell_type": "markdown",
   "metadata": {},
   "source": [
    "### 2.4 Limites du contexte (Context Window)"
   ]
  },
  {
   "cell_type": "code",
   "execution_count": null,
   "metadata": {},
   "outputs": [],
   "source": [
    "# Démonstration de la limite de contexte\n",
    "print(f\"🔍 Limite de contexte du modèle: {model.config.n_ctx} tokens\\n\")\n",
    "\n",
    "# Créons un texte très long\n",
    "texte_court = \"Ceci est un exemple. \" * 10\n",
    "texte_long = \"Ceci est un exemple. \" * 100\n",
    "\n",
    "tokens_court = tokenizer.encode(texte_court)\n",
    "tokens_long = tokenizer.encode(texte_long)\n",
    "\n",
    "print(f\"Texte court: {len(tokens_court)} tokens\")\n",
    "print(f\"Texte long: {len(tokens_long)} tokens\")\n",
    "print(f\"Dépasse la limite? {len(tokens_long) > model.config.n_ctx}\")\n",
    "\n",
    "# Visualisation de ce qui se passe avec un texte trop long\n",
    "if len(tokens_long) > model.config.n_ctx:\n",
    "    print(f\"\\n⚠️ Le texte long ({len(tokens_long)} tokens) dépasse la limite!\")\n",
    "    print(f\"Le modèle ne peut traiter que les {model.config.n_ctx} premiers tokens.\")\n",
    "    \n",
    "    # Tronquons pour la démonstration\n",
    "    tokens_tronques = tokens_long[:model.config.n_ctx]\n",
    "    texte_tronque = tokenizer.decode(tokens_tronques)\n",
    "    print(f\"\\nTexte tronqué (début): {texte_tronque[:100]}...\")\n",
    "    print(f\"Texte tronqué (fin): ...{texte_tronque[-100:]}\")"
   ]
  },
  {
   "cell_type": "markdown",
   "metadata": {},
   "source": [
    "### 2.5 Date limite d'entraînement"
   ]
  },
  {
   "cell_type": "code",
   "execution_count": null,
   "metadata": {},
   "outputs": [],
   "source": [
    "# Test des connaissances temporelles du modèle\n",
    "prompts_temporels = [\n",
    "    \"The president of the United States in 2019 was\",\n",
    "    \"The COVID-19 pandemic started in\",\n",
    "    \"The latest iPhone model in 2023 is\",\n",
    "    \"The winner of the 2022 FIFA World Cup was\"\n",
    "]\n",
    "\n",
    "print(\"🕐 Test des connaissances temporelles du modèle\\n\")\n",
    "print(\"Note: GPT-2 a été entraîné sur des données jusqu'en 2019\\n\")\n",
    "\n",
    "for prompt in prompts_temporels:\n",
    "    inputs = tokenizer.encode(prompt, return_tensors=\"pt\")\n",
    "    \n",
    "    with torch.no_grad():\n",
    "        outputs = model.generate(\n",
    "            inputs,\n",
    "            max_length=len(inputs[0]) + 20,\n",
    "            temperature=0.1,\n",
    "            pad_token_id=tokenizer.eos_token_id\n",
    "        )\n",
    "    \n",
    "    resultat = tokenizer.decode(outputs[0], skip_special_tokens=True)\n",
    "    print(f\"Q: {prompt}\")\n",
    "    print(f\"R: {resultat}\")\n",
    "    print(\"-\" * 60)"
   ]
  },
  {
   "cell_type": "markdown",
   "metadata": {},
   "source": [
    "### 📝 Exercice 2.1 : Explorer les limites du modèle\n",
    "\n",
    "Testez le modèle avec vos propres prompts pour identifier ses limites temporelles :"
   ]
  },
  {
   "cell_type": "code",
   "execution_count": null,
   "metadata": {},
   "outputs": [],
   "source": [
    "# TODO: Ajoutez vos propres prompts pour tester les connaissances du modèle\n",
    "mes_prompts = [\n",
    "    \"En 2018, le champion du monde de football était\",\n",
    "    # Ajoutez vos prompts ici\n",
    "]\n",
    "\n",
    "for prompt in mes_prompts:\n",
    "    inputs = tokenizer.encode(prompt, return_tensors=\"pt\")\n",
    "    with torch.no_grad():\n",
    "        outputs = model.generate(inputs, max_length=50, temperature=0.3, pad_token_id=tokenizer.eos_token_id)\n",
    "    print(f\"Prompt: {prompt}\")\n",
    "    print(f\"Réponse: {tokenizer.decode(outputs[0], skip_special_tokens=True)}\\n\")"
   ]
  },
  {
   "cell_type": "markdown",
   "metadata": {},
   "source": [
    "---\n",
    "\n",
    "## Partie 3 : Impact du prompting et de la température\n",
    "\n",
    "### 3.1 Exploration de la température"
   ]
  },
  {
   "cell_type": "code",
   "execution_count": null,
   "metadata": {},
   "outputs": [],
   "source": [
    "# Fonction pour visualiser l'impact de la température\n",
    "def explorer_temperature(prompt, temperatures=[0.1, 0.5, 0.8, 1.0, 1.5]):\n",
    "    print(f\"Prompt: '{prompt}'\\n\")\n",
    "    \n",
    "    resultats = {}\n",
    "    \n",
    "    for temp in temperatures:\n",
    "        print(f\"\\n🌡️ Température = {temp}\")\n",
    "        print(\"=\" * 60)\n",
    "        \n",
    "        inputs = tokenizer.encode(prompt, return_tensors=\"pt\")\n",
    "        generations = []\n",
    "        \n",
    "        # Générer plusieurs fois pour voir la variabilité\n",
    "        for i in range(3):\n",
    "            with torch.no_grad():\n",
    "                outputs = model.generate(\n",
    "    inputs,\n",
    "                    max_length=50,\n",
    "                    temperature=temp,\n",
    "                    do_sample=True,\n",
    "                    pad_token_id=tokenizer.eos_token_id\n",
    "                )\n",
    "            \n",
    "            texte = tokenizer.decode(outputs[0], skip_special_tokens=True)\n",
    "            generations.append(texte)\n",
    "            print(f\"Essai {i+1}: {texte}\")\n",
    "        \n",
    "        resultats[temp] = generations\n",
    "    \n",
    "    return resultats\n",
    "\n",
    "# Test avec différentes températures\n",
    "resultats_temp = explorer_temperature(\"Une recette de cuisine innovante:\")"
   ]
  },
  {
   "cell_type": "markdown",
   "metadata": {},
   "source": [
    "### 📝 Question 3.1\n",
    "\n",
    "**Observez l'impact de la température sur les générations:**\n",
    "- Que se passe-t-il avec une température basse (0.1) ?\n",
    "- Que se passe-t-il avec une température élevée (1.5) ?\n",
    "- Quelle température recommanderiez-vous pour des cas d'usage créatifs vs factuels ?\n",
    "\n",
    "**Votre réponse :** *(Double-cliquez pour éditer)*\n",
    "\n",
    "..."
   ]
  },
  {
   "cell_type": "markdown",
   "metadata": {},
   "source": [
    "### 3.2 L'art du prompting"
   ]
  },
  {
   "cell_type": "code",
   "execution_count": null,
   "metadata": {},
   "outputs": [],
   "source": [
    "# Comparaison de différents styles de prompts\n",
    "tache = \"expliquer ce qu'est le machine learning\"\n",
    "\n",
    "prompts_styles = {\n",
    "    \"Basique\": \"Le machine learning est\",\n",
    "    \n",
    "    \"Avec contexte\": \"En tant que professeur d'informatique, j'explique à mes étudiants que le machine learning est\",\n",
    "    \n",
    "    \"Avec exemple\": \"Le machine learning est comme apprendre à faire du vélo. Au début,\",\n",
    "    \n",
    "    \"Structuré\": \"Définition du Machine Learning:\\n1.\",\n",
    "    \n",
    "    \"Conversation\": \"Étudiant: Qu'est-ce que le machine learning?\\nProfesseur: Excellente question! Le machine learning est\"\n",
    "}\n",
    "\n",
    "print(\"🎯 Comparaison de différents styles de prompting\\n\")\n",
    "\n",
    "for style, prompt in prompts_styles.items():\n",
    "    print(f\"\\n{'='*80}\")\n",
    "    print(f\"Style: {style}\")\n",
    "    print(f\"Prompt: '{prompt}'\")\n",
    "    print(\"-\" * 80)\n",
    "    \n",
    "    inputs = tokenizer.encode(prompt, return_tensors=\"pt\")\n",
    "    \n",
    "    with torch.no_grad():\n",
    "        outputs = model.generate(\n",
    "            inputs,\n",
    "            max_length=100,\n",
    "            temperature=0.7,\n",
    "            pad_token_id=tokenizer.eos_token_id,\n",
    "            do_sample=True\n",
    "        )\n",
    "    \n",
    "    resultat = tokenizer.decode(outputs[0], skip_special_tokens=True)\n",
    "    print(resultat)"
   ]
  },
  {
   "cell_type": "markdown",
   "metadata": {},
   "source": [
    "### 📝 Exercice 3.1 : Créez vos propres prompts\n",
    "\n",
    "Expérimentez avec différents prompts pour une tâche de votre choix :"
   ]
  },
  {
   "cell_type": "code",
   "execution_count": null,
   "metadata": {},
   "outputs": [],
   "source": [
    "# TODO: Créez 3 prompts différents pour accomplir la même tâche\n",
    "ma_tache = \"générer une histoire courte sur un robot\"\n",
    "\n",
    "mes_prompts = {\n",
    "    \"Prompt 1\": \"Il était une fois un robot qui\",\n",
    "    \"Prompt 2\": \"Journal intime d'un robot, jour 1:\",\n",
    "    \"Prompt 3\": \"Breaking news: Un robot extraordinaire vient de\"\n",
    "}\n",
    "\n",
    "# Testez vos prompts\n",
    "temperature_choisie = 0.8  # Modifiez cette valeur\n",
    "\n",
    "for nom, prompt in mes_prompts.items():\n",
    "    print(f\"\\n{nom}: '{prompt}'\")\n",
    "    print(\"-\" * 60)\n",
    "    \n",
    "    inputs = tokenizer.encode(prompt, return_tensors=\"pt\")\n",
    "    with torch.no_grad():\n",
    "        outputs = model.generate(\n",
    "            inputs,\n",
    "            max_length=80,\n",
    "            temperature=temperature_choisie,\n",
    "            pad_token_id=tokenizer.eos_token_id,\n",
    "            do_sample=True\n",
    "        )\n",
    "    \n",
    "    print(tokenizer.decode(outputs[0], skip_special_tokens=True))"
   ]
  },
  {
   "cell_type": "markdown",
   "metadata": {},
   "source": [
    "---\n",
    "\n",
    "## Partie 4 : La diversité des modèles sur Hugging Face\n",
    "\n",
    "### 4.1 Pipeline : Interface simple pour différentes tâches"
   ]
  },
  {
   "cell_type": "code",
   "execution_count": null,
   "metadata": {},
   "outputs": [],
   "source": [
    "# Présentation des différentes tâches disponibles\n",
    "print(\"🎯 Exemples de tâches NLP disponibles sur Hugging Face:\\n\")\n",
    "\n",
    "taches_exemples = [\n",
    "    \"text-generation\",\n",
    "    \"sentiment-analysis\", \n",
    "    \"translation\",\n",
    "    \"summarization\",\n",
    "    \"question-answering\",\n",
    "    \"zero-shot-classification\",\n",
    "    \"text2text-generation\"\n",
    "]\n",
    "\n",
    "for tache in taches_exemples:\n",
    "    print(f\"- {tache}\")"
   ]
  },
  {
   "cell_type": "markdown",
   "metadata": {},
   "source": [
    "### 4.2 Analyse de sentiment"
   ]
  },
  {
   "cell_type": "code",
   "execution_count": null,
   "metadata": {},
   "outputs": [],
   "source": [
    "# Pipeline d'analyse de sentiment\n",
    "sentiment_analyzer = pipeline(\"sentiment-analysis\")\n",
    "\n",
    "# Textes à analyser\n",
    "textes_sentiment = [\n",
    "    \"J'adore ce cours sur le NLP, c'est passionnant!\",\n",
    "    \"Cette expérience est vraiment décevante.\",\n",
    "    \"Le temps est nuageux aujourd'hui.\",\n",
    "    \"This transformer model is absolutely amazing! 🚀\",\n",
    "    \"Je ne sais pas trop quoi en penser, c'est mitigé.\"\n",
    "]\n",
    "\n",
    "print(\"😊😐😢 Analyse de sentiment\\n\")\n",
    "\n",
    "resultats_sentiment = sentiment_analyzer(textes_sentiment)\n",
    "\n",
    "for texte, resultat in zip(textes_sentiment, resultats_sentiment):\n",
    "    emoji = \"😊\" if resultat['label'] == 'POSITIVE' else \"😢\"\n",
    "    print(f\"{emoji} Texte: '{texte}'\")\n",
    "    print(f\"   → Sentiment: {resultat['label']} (confiance: {resultat['score']:.2%})\")\n",
    "    print()"
   ]
  },
  {
   "cell_type": "markdown",
   "metadata": {},
   "source": [
    "### 4.3 Classification zero-shot"
   ]
  },
  {
   "cell_type": "code",
   "execution_count": null,
   "metadata": {},
   "outputs": [],
   "source": [
    "# Classification zero-shot : classifier sans entraînement spécifique\n",
    "classifier = pipeline(\"zero-shot-classification\")\n",
    "\n",
    "# Textes à classifier\n",
    "textes_classification = [\n",
    "    \"Tesla annonce une nouvelle voiture électrique autonome\",\n",
    "    \"Le PSG remporte le match 3-0 contre Lyon\",\n",
    "    \"Nouvelle découverte scientifique sur les trous noirs\",\n",
    "    \"Apple dévoile l'iPhone 15 avec des fonctionnalités révolutionnaires\"\n",
    "]\n",
    "\n",
    "# Catégories possibles\n",
    "categories = [\"sport\", \"technologie\", \"science\", \"politique\", \"économie\"]\n",
    "\n",
    "print(\"🏷️ Classification zero-shot\\n\")\n",
    "\n",
    "for texte in textes_classification:\n",
    "    resultat = classifier(texte, candidate_labels=categories)\n",
    "    \n",
    "    print(f\"Texte: '{texte}'\")\n",
    "    print(f\"Classifications:\")\n",
    "    for label, score in zip(resultat['labels'][:3], resultat['scores'][:3]):\n",
    "        print(f\"  - {label}: {score:.2%}\")\n",
    "    print()"
   ]
  },
  {
   "cell_type": "markdown",
   "metadata": {},
   "source": [
    "### 4.4 Génération de résumés"
   ]
  },
  {
   "cell_type": "code",
   "execution_count": null,
   "metadata": {},
   "outputs": [],
   "source": [
    "# Pipeline de résumé\n",
    "summarizer = pipeline(\"summarization\", model=\"facebook/bart-large-cnn\")\n",
    "\n",
    "# Texte long à résumer\n",
    "article = \"\"\"\n",
    "L'intelligence artificielle (IA) transforme rapidement notre monde. \n",
    "Des assistants vocaux dans nos maisons aux systèmes de recommandation sur nos plateformes de streaming, \n",
    "l'IA est omniprésente. Les récentes avancées en apprentissage profond, notamment avec les transformers, \n",
    "ont permis des progrès spectaculaires dans le traitement du langage naturel. \n",
    "Ces modèles peuvent maintenant comprendre et générer du texte avec une qualité impressionnante, \n",
    "ouvrant de nouvelles possibilités dans de nombreux domaines comme la traduction automatique, \n",
    "la génération de contenu, et l'analyse de sentiment. Cependant, ces avancées soulèvent aussi \n",
    "des questions éthiques importantes concernant la vie privée, les biais algorithmiques, \n",
    "et l'impact sur l'emploi.\n",
    "\"\"\"\n",
    "\n",
    "print(\"📝 Génération de résumé\\n\")\n",
    "print(\"Article original:\")\n",
    "print(article)\n",
    "print(\"\\nRésumé généré:\")\n",
    "\n",
    "resume = summarizer(article, max_length=80, min_length=30, do_sample=False)\n",
    "print(resume[0]['summary_text'])"
   ]
  },
  {
   "cell_type": "markdown",
   "metadata": {},
   "source": [
    "### 4.5 Questions-Réponses"
   ]
  },
  {
   "cell_type": "code",
   "execution_count": null,
   "metadata": {},
   "outputs": [],
   "source": [
    "# Pipeline de questions-réponses\n",
    "qa_pipeline = pipeline(\"question-answering\")\n",
    "\n",
    "# Contexte\n",
    "contexte = \"\"\"\n",
    "Hugging Face est une entreprise franco-américaine fondée en 2016 par Clément Delangue, Julien Chaumond et Thomas Wolf.\n",
    "L'entreprise est surtout connue pour sa bibliothèque Transformers, qui fournit des architectures de pointe \n",
    "pour le traitement du langage naturel. La plateforme Hugging Face Hub héberge plus de 100 000 modèles \n",
    "pré-entraînés que les développeurs peuvent utiliser gratuitement. L'entreprise a levé 235 millions de dollars \n",
    "en 2023, atteignant une valorisation de 4,5 milliards de dollars.\n",
    "\"\"\"\n",
    "\n",
    "# Questions\n",
    "questions = [\n",
    "    \"Quand a été fondée Hugging Face?\",\n",
    "    \"Qui sont les fondateurs?\",\n",
    "    \"Combien de modèles sont hébergés sur le Hub?\",\n",
    "    \"Quelle est la valorisation de l'entreprise?\"\n",
    "]\n",
    "\n",
    "print(\"❓ Questions-Réponses\\n\")\n",
    "print(f\"Contexte: {contexte}\\n\")\n",
    "\n",
    "for question in questions:\n",
    "    reponse = qa_pipeline(question=question, context=contexte)\n",
    "    print(f\"Q: {question}\")\n",
    "    print(f\"R: {reponse['answer']} (confiance: {reponse['score']:.2%})\")\n",
    "    print()"
   ]
  },
  {
   "cell_type": "markdown",
   "metadata": {},
   "source": [
    "### 📝 Exercice 4.1 : Explorer d'autres modèles\n",
    "\n",
    "Choisissez un modèle spécialisé sur Hugging Face et testez-le :"
   ]
  },
  {
   "cell_type": "code",
   "execution_count": null,
   "metadata": {},
   "outputs": [],
   "source": [
    "# TODO: Explorez un autre modèle de votre choix\n",
    "# Exemples de modèles intéressants:\n",
    "# - \"Helsinki-NLP/opus-mt-fr-en\" pour la traduction français→anglais\n",
    "# - \"camembert-base\" pour du NLP en français\n",
    "# - \"microsoft/DialoGPT-medium\" pour la conversation\n",
    "\n",
    "# Votre code ici\n",
    "mon_modele = \"Helsinki-NLP/opus-mt-fr-en\"  # Changez ce modèle\n",
    "ma_tache = \"translation_fr_to_en\"  # Adaptez la tâche\n",
    "\n",
    "# Créez votre pipeline et testez-le\n",
    "# ..."
   ]
  },
  {
   "cell_type": "markdown",
   "metadata": {},
   "source": [
    "---\n",
    "\n",
    "## Conclusion et points clés à retenir\n",
    "\n",
    "### 🎯 Ce que nous avons appris :\n",
    "\n",
    "1. **Tokenisation** :\n",
    "   - Les tokenizers transforment le texte en unités que les modèles peuvent traiter\n",
    "   - Différents tokenizers ont différentes stratégies (BPE, WordPiece, etc.)\n",
    "   - Il est crucial d'utiliser le bon tokenizer avec le bon modèle\n",
    "\n",
    "2. **Modèles GPT** :\n",
    "   - Fonctionnent par prédiction du token suivant\n",
    "   - Ont une limite de contexte (context window)\n",
    "   - Leurs connaissances sont limitées à leur date d'entraînement\n",
    "\n",
    "3. **Paramètres de génération** :\n",
    "   - La température contrôle la créativité/aléatoire\n",
    "   - Le prompting est un art qui influence grandement les résultats\n",
    "\n",
    "4. **Écosystème Hugging Face** :\n",
    "   - Grande variété de modèles pour différentes tâches\n",
    "   - Pipelines pour une utilisation simplifiée\n",
    "   - Modèles spécialisés vs modèles généralistes\n",
    "\n",
    "### 📚 Pour aller plus loin :\n",
    "\n",
    "- Documentation Hugging Face : https://huggingface.co/docs\n",
    "- Cours sur les Transformers : https://huggingface.co/course\n",
    "- Model Hub : https://huggingface.co/models\n",
    "- Papers with Code : https://paperswithcode.com/"
   ]
  },
  {
   "cell_type": "markdown",
   "metadata": {},
   "source": [
    "### 💡 Mini-projet final (optionnel)\n",
    "\n",
    "Créez une petite application qui combine plusieurs modèles :"
   ]
  },
  {
   "cell_type": "code",
   "execution_count": null,
   "metadata": {},
   "outputs": [],
   "source": [
    "# Exemple : Assistant multilingue\n",
    "def assistant_multilingue(texte, langue_source=\"fr\", langue_cible=\"en\"):\n",
    "    \"\"\"\n",
    "    1. Détecte le sentiment\n",
    "    2. Traduit le texte\n",
    "    3. Génère une réponse appropriée\n",
    "    \"\"\"\n",
    "    print(f\"📥 Texte reçu: '{texte}'\\n\")\n",
    "    \n",
    "    # Étape 1: Analyse de sentiment\n",
    "    sentiment = sentiment_analyzer(texte)[0]\n",
    "    print(f\"😊 Sentiment détecté: {sentiment['label']} ({sentiment['score']:.2%})\")\n",
    "    \n",
    "    # Étape 2: Traduction (si nécessaire)\n",
    "    if langue_source != langue_cible:\n",
    "        translator = pipeline(f\"translation_{langue_source}_to_{langue_cible}\")\n",
    "        traduction = translator(texte)[0]['translation_text']\n",
    "        print(f\"🌍 Traduction: '{traduction}'\")\n",
    "    \n",
    "    # Étape 3: Génération de réponse basée sur le sentiment\n",
    "    if sentiment['label'] == 'POSITIVE':\n",
    "        prompt = \"Thank you for your positive feedback! I'm glad\"\n",
    "    else:\n",
    "        prompt = \"I understand your concern. Let me help you by\"\n",
    "    \n",
    "    inputs = tokenizer.encode(prompt, return_tensors=\"pt\")\n",
    "    outputs = model.generate(inputs, max_length=50, temperature=0.7, pad_token_id=tokenizer.eos_token_id)\n",
    "    reponse = tokenizer.decode(outputs[0], skip_special_tokens=True)\n",
    "    \n",
    "    print(f\"\\n💬 Réponse générée: {reponse}\")\n",
    "    \n",
    "    return reponse\n",
    "\n",
    "# Test\n",
    "assistant_multilingue(\"Ce TP était vraiment intéressant et bien structuré!\")"
   ]
  },
  {
   "cell_type": "markdown",
   "metadata": {},
   "source": [
    "---\n",
    "\n",
    "## 🎉 Félicitations!\n",
    "\n",
    "Vous avez terminé ce TP d'introduction aux modèles NLP et LLM. Vous avez maintenant les bases pour:\n",
    "\n",
    "- Comprendre comment les modèles de langage traitent le texte\n",
    "- Utiliser et configurer des modèles pré-entraînés\n",
    "- Explorer l'écosystème riche de Hugging Face\n",
    "- Créer vos propres applications NLP\n",
    "\n",
    "N'hésitez pas à expérimenter davantage avec les différents modèles et paramètres!"
   ]
  }
 ],
 "metadata": {
  "kernelspec": {
   "display_name": "Python 3 (ipykernel)",
   "language": "python",
   "name": "python3"
  },
  "language_info": {
   "codemirror_mode": {
    "name": "ipython",
    "version": 3
   },
   "file_extension": ".py",
   "mimetype": "text/x-python",
   "name": "python",
   "nbconvert_exporter": "python",
   "pygments_lexer": "ipython3",
   "version": "3.13.3"
  }
 },
 "nbformat": 4,
 "nbformat_minor": 4
}
